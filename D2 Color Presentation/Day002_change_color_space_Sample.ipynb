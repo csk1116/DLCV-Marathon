{
 "cells": [
  {
   "cell_type": "markdown",
   "metadata": {},
   "source": [
    "# Sample\n",
    "\n",
    "image used [Lena](http://optipng.sourceforge.net/pngtech/img/lena.png)\n",
    "\n",
    "## Goal:  \n",
    "1. Present Lena in HSV color space\n",
    "\n",
    "### other resourses:  \n",
    "1. [Color spaces in OpenCV (C++ / Python)](https://www.learnopencv.com/color-spaces-in-opencv-cpp-python/)  \n",
    "2. [HSL, HSV HSB](https://www.zhihu.com/question/22077462)    \n",
    "3. [LAB](https://en.wikipedia.org/wiki/CIELAB_color_space)\n"
   ]
  },
  {
   "cell_type": "code",
   "execution_count": 9,
   "metadata": {},
   "outputs": [
    {
     "name": "stdout",
     "output_type": "stream",
     "text": [
      "image saved\n"
     ]
    }
   ],
   "source": [
    "import cv2 as cv\n",
    "import sys\n",
    "\n",
    "img_path = 'C:/Users/CSK/CSK-DL-CV-Marathon/images/lena.png'\n",
    "img = cv.imread(img_path, cv.IMREAD_COLOR)\n",
    "\n",
    "if img is None:\n",
    "    sys.exit(\"could not read image\")\n",
    "\n",
    "# HSV color space\n",
    "img_hsv = cv.cvtColor(img, cv.COLOR_BGR2HSV)\n",
    "\n",
    "while True:\n",
    "    \n",
    "    cv.imshow('bgr', img)\n",
    "    cv.imshow('hsv', img_hsv)\n",
    "    \n",
    "    k = cv.waitKey(0)\n",
    "    #press s or S to save\n",
    "    # press 's or S' to save images\n",
    "    if k == ord(\"s\") or k == ord(\"S\"):\n",
    "        cv.imwrite('Lena_hsv.png', img_hsv)\n",
    "        print(\"image saved\")\n",
    "    \n",
    "    # press ESC to break\n",
    "    if k == 27:\n",
    "        cv.destroyAllWindows()\n",
    "        break"
   ]
  },
  {
   "cell_type": "markdown",
   "metadata": {},
   "source": [
    "## Result:  \n",
    "Lena HSV:\n",
    "\n",
    "![Lena_hsv](Lena_hsv.png)"
   ]
  }
 ],
 "metadata": {
  "kernelspec": {
   "display_name": "Python 3",
   "language": "python",
   "name": "python3"
  },
  "language_info": {
   "codemirror_mode": {
    "name": "ipython",
    "version": 3
   },
   "file_extension": ".py",
   "mimetype": "text/x-python",
   "name": "python",
   "nbconvert_exporter": "python",
   "pygments_lexer": "ipython3",
   "version": "3.6.5"
  }
 },
 "nbformat": 4,
 "nbformat_minor": 2
}
