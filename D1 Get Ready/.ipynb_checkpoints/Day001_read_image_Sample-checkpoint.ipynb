{
 "cells": [
  {
   "cell_type": "markdown",
   "metadata": {},
   "source": [
    "# Sample\n",
    "\n",
    "image used: [Lena](http://optipng.sourceforge.net/pngtech/img/lena.png)\n",
    "\n",
    "## Goals\n",
    "\n",
    "1. display image in **color**.  \n",
    "2. display image in **grayscale**\n",
    "\n",
    "### other resourses\n",
    "[OpenCV tutorial](https://docs.opencv.org/3.4.12/db/deb/tutorial_display_image.html)"
   ]
  },
  {
   "cell_type": "code",
   "execution_count": 4,
   "metadata": {},
   "outputs": [
    {
     "name": "stdout",
     "output_type": "stream",
     "text": [
      "image type:  <class 'numpy.ndarray'>\n",
      "color image dim:  (512, 512, 3)\n",
      "grayscale image dim:  (512, 512)\n"
     ]
    }
   ],
   "source": [
    "import cv2 as cv\n",
    "import sys\n",
    "\n",
    "img_path = 'C:/Users/CSK/CSK-DL-CV-Marathon/images/lena.png'\n",
    "\n",
    "# load image and convert it into color one\n",
    "img = cv.imread(img_path, cv.IMREAD_COLOR)\n",
    "\n",
    "# load image and convert it into grayscale one\n",
    "img_gray = cv.imread(img_path, cv.IMREAD_GRAYSCALE)\n",
    "\n",
    "# check\n",
    "if img is None or img_gray is None:\n",
    "    sys.exit(\"Could not read the image.\")\n",
    "\n",
    "# get image type & size\n",
    "print(\"image type: \", type(img))\n",
    "print(\"color image dim: \", img.shape)\n",
    "print(\"grayscale image dim: \", img_gray.shape)\n",
    "\n",
    "# keep showing image\n",
    "while True:\n",
    "    \n",
    "    cv.imshow('bgr', img)\n",
    "    cv.imshow('gray', img_gray)\n",
    "\n",
    "    k = cv.waitKey(0)\n",
    "    \n",
    "    # press 's or S' to save images\n",
    "    if k == ord(\"s\") or k == ord(\"S\"):\n",
    "        cv.imwrite('Lena_color.png', img)\n",
    "        cv.imwrite('Lena_grayscale.png', img_gray)\n",
    "        print(\"image saved\")\n",
    "    \n",
    "    # press ESC to close the display windows and break the while loop\n",
    "    if k == 27:\n",
    "        cv.destroyAllWindows()\n",
    "        break"
   ]
  },
  {
   "cell_type": "markdown",
   "metadata": {},
   "source": [
    "## Result\n",
    "\n",
    "|1.                           |2.                                   |\n",
    "|            :---:            |                 :---:               |\n",
    "|![Lena color](Lena_color.png)|![Lena grayscale](Lena_grayscale.png)|\n",
    "|**Lena color**               |**Lena grayscale**                   | \n"
   ]
  }
 ],
 "metadata": {
  "kernelspec": {
   "display_name": "Python 3",
   "language": "python",
   "name": "python3"
  },
  "language_info": {
   "codemirror_mode": {
    "name": "ipython",
    "version": 3
   },
   "file_extension": ".py",
   "mimetype": "text/x-python",
   "name": "python",
   "nbconvert_exporter": "python",
   "pygments_lexer": "ipython3",
   "version": "3.6.5"
  }
 },
 "nbformat": 4,
 "nbformat_minor": 2
}
